{
 "cells": [
  {
   "cell_type": "code",
   "execution_count": 12,
   "metadata": {},
   "outputs": [],
   "source": [
    "from sqlalchemy import create_engine, Column, Integer, String, Float, Date, ForeignKey\n",
    "from sqlalchemy.orm import sessionmaker, relationship, backref\n",
    "from sqlalchemy.ext.declarative import declarative_base\n",
    "import sqlite3"
   ]
  },
  {
   "cell_type": "markdown",
   "metadata": {},
   "source": [
    "Connect to database using sqlite"
   ]
  },
  {
   "cell_type": "code",
   "execution_count": 24,
   "metadata": {},
   "outputs": [],
   "source": [
    "con = sqlite3.connect('database.db')"
   ]
  },
  {
   "cell_type": "markdown",
   "metadata": {},
   "source": [
    "Set up sqlalchemy stuff"
   ]
  },
  {
   "cell_type": "code",
   "execution_count": 25,
   "metadata": {},
   "outputs": [],
   "source": [
    "engine = create_engine('sqlite:///database.db', echo=False)"
   ]
  },
  {
   "cell_type": "code",
   "execution_count": 26,
   "metadata": {},
   "outputs": [],
   "source": [
    "Session = sessionmaker(bind = engine)"
   ]
  },
  {
   "cell_type": "code",
   "execution_count": 27,
   "metadata": {},
   "outputs": [],
   "source": [
    "Base = declarative_base()"
   ]
  },
  {
   "cell_type": "markdown",
   "metadata": {},
   "source": [
    "Create classes that map to tables using sqlalchemy's declarative base"
   ]
  },
  {
   "cell_type": "code",
   "execution_count": 28,
   "metadata": {},
   "outputs": [],
   "source": [
    "class Station(Base):\n",
    "    __tablename__ = 'station'\n",
    "    \n",
    "    stations_id = Column(Integer, primary_key=True)\n",
    "    von_datum = Column(Date)\n",
    "    bis_datum = Column(Date)\n",
    "    stationshoehe = Column(Integer)\n",
    "    geoBreite = Column(Float)\n",
    "    geoLaenge = Column(Float)\n",
    "    stationsname = Column(String, nullable=False)\n",
    "    bundesland = Column(String)\n",
    "\n",
    "\n",
    "class Measurement(Base):\n",
    "    __tablename__ = 'measurement'\n",
    "    \n",
    "    # have to set it to Date later. sqlite has some problems with this\n",
    "    mess_datum = Column(Integer, primary_key=True)\n",
    "    stations_id = Column(Integer, ForeignKey('station.stations_id'), primary_key=True)\n",
    "    qn_3 = Column(Integer)  # quality level of next columns\n",
    "    fx = Column(Float)\n",
    "    fm = Column(Float)\n",
    "    qn_4 = Column(Integer)\n",
    "    rsk = Column(Float)\n",
    "    rskf = Column(Float)\n",
    "    sdk = Column(Float)\n",
    "    shk_tag = Column(Float)\n",
    "    nm = Column(Float)\n",
    "    vpm = Column(Float)\n",
    "    pm = Column(Float)\n",
    "    tmk = Column(Float)\n",
    "    upm = Column(Float)\n",
    "    txk = Column(Float)\n",
    "    tnk = Column(Float)\n",
    "    tgk = Column(Float)\n",
    "    \n",
    "    station = relationship('Station', backref=backref('measurements', order_by=mess_datum))"
   ]
  },
  {
   "cell_type": "markdown",
   "metadata": {},
   "source": [
    "This has already set up the metadata for us to create the tables.\n",
    "\n",
    "So create them"
   ]
  },
  {
   "cell_type": "code",
   "execution_count": 29,
   "metadata": {},
   "outputs": [],
   "source": [
    "Base.metadata.create_all(engine)"
   ]
  },
  {
   "cell_type": "code",
   "execution_count": 30,
   "metadata": {},
   "outputs": [],
   "source": [
    "import pandas as pd\n",
    "import numpy as np"
   ]
  },
  {
   "cell_type": "markdown",
   "metadata": {},
   "source": [
    "Read two measurements tables"
   ]
  },
  {
   "cell_type": "code",
   "execution_count": 31,
   "metadata": {},
   "outputs": [],
   "source": [
    "data_3 = pd.read_table('data_00003.txt', sep = ';', index_col = 0).drop('eor', axis = 1)\n",
    "data_3.columns = [col.strip() for col in data_3.columns]\n",
    "data_3 = data_3.replace(-999, np.nan)"
   ]
  },
  {
   "cell_type": "code",
   "execution_count": 32,
   "metadata": {},
   "outputs": [],
   "source": [
    "data_1 = pd.read_table('data_00001.txt', sep = ';', index_col = 0).drop('eor', axis = 1)\n",
    "data_1.columns = [col.strip() for col in data_1.columns]\n",
    "data_1 = data_1.replace(-999, np.nan)"
   ]
  },
  {
   "cell_type": "markdown",
   "metadata": {},
   "source": [
    "Write them to the database"
   ]
  },
  {
   "cell_type": "code",
   "execution_count": 33,
   "metadata": {
    "scrolled": false
   },
   "outputs": [],
   "source": [
    "data_3.to_sql('measurement', engine, if_exists='append')"
   ]
  },
  {
   "cell_type": "code",
   "execution_count": 34,
   "metadata": {},
   "outputs": [],
   "source": [
    "data_1.to_sql('measurement', engine, if_exists='append')"
   ]
  },
  {
   "cell_type": "markdown",
   "metadata": {},
   "source": [
    "Use pandas to get the table and do stuff"
   ]
  },
  {
   "cell_type": "code",
   "execution_count": 35,
   "metadata": {},
   "outputs": [
    {
     "name": "stdout",
     "output_type": "stream",
     "text": [
      "360 ms ± 2.85 ms per loop (mean ± std. dev. of 7 runs, 1 loop each)\n"
     ]
    }
   ],
   "source": [
    "%timeit df = pd.read_sql('measurement', engine)['stations_id'].unique()"
   ]
  },
  {
   "cell_type": "code",
   "execution_count": 36,
   "metadata": {},
   "outputs": [],
   "source": [
    "session = Session()\n",
    "def distinct_ids():\n",
    "    df = [m for m in session.query(Measurement.stations_id).distinct()] #distinct um werter nur einmal anzuzeigen...\n",
    "    return df"
   ]
  },
  {
   "cell_type": "code",
   "execution_count": 37,
   "metadata": {},
   "outputs": [
    {
     "name": "stdout",
     "output_type": "stream",
     "text": [
      "4.08 ms ± 39.9 µs per loop (mean ± std. dev. of 7 runs, 100 loops each)\n"
     ]
    }
   ],
   "source": [
    "%timeit df = distinct_ids()"
   ]
  },
  {
   "cell_type": "markdown",
   "metadata": {},
   "source": [
    "Check how measurements are automatically linked to stations by adding some dummy stations to the database"
   ]
  },
  {
   "cell_type": "code",
   "execution_count": 38,
   "metadata": {},
   "outputs": [],
   "source": [
    "session.add_all([Station(stations_id = 1, stationsname = 'Aach'),\n",
    "                 Station(stations_id = 3, stationsname = 'Aachen')])"
   ]
  },
  {
   "cell_type": "code",
   "execution_count": 40,
   "metadata": {},
   "outputs": [],
   "source": [
    "session.commit()"
   ]
  },
  {
   "cell_type": "code",
   "execution_count": 41,
   "metadata": {},
   "outputs": [
    {
     "name": "stdout",
     "output_type": "stream",
     "text": [
      "17348\n"
     ]
    }
   ],
   "source": [
    "for s in session.query(Station).filter_by(stationsname = 'Aach'):\n",
    "    print(len(s.measurements))"
   ]
  },
  {
   "cell_type": "code",
   "execution_count": 42,
   "metadata": {},
   "outputs": [],
   "source": [
    "session.close()"
   ]
  },
  {
   "cell_type": "code",
   "execution_count": null,
   "metadata": {},
   "outputs": [],
   "source": []
  }
 ],
 "metadata": {
  "kernelspec": {
   "display_name": "Python 3",
   "language": "python",
   "name": "python3"
  },
  "language_info": {
   "codemirror_mode": {
    "name": "ipython",
    "version": 3
   },
   "file_extension": ".py",
   "mimetype": "text/x-python",
   "name": "python",
   "nbconvert_exporter": "python",
   "pygments_lexer": "ipython3",
   "version": "3.6.4"
  }
 },
 "nbformat": 4,
 "nbformat_minor": 2
}
